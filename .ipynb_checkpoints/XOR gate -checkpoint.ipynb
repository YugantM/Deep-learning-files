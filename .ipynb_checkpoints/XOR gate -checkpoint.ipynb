{
 "cells": [
  {
   "cell_type": "markdown",
   "metadata": {},
   "source": [
    "# XOR gate with feed forward NN"
   ]
  },
  {
   "cell_type": "code",
   "execution_count": 5,
   "metadata": {
    "collapsed": true
   },
   "outputs": [],
   "source": [
    "# reference link: https://towardsdatascience.com/tflearn-soving-xor-with-a-2x2x1-feed-forward-neural-network-6c07d88689ed"
   ]
  },
  {
   "cell_type": "code",
   "execution_count": 36,
   "metadata": {},
   "outputs": [],
   "source": [
    "# XOR gate truth table\n",
    "\n",
    "#INPUT | OUTPUT\n",
    "#0   0 | 0 [FALSE]\n",
    "#0   1 | 1 [TRUE]\n",
    "#1   0 | 1 [TRUE]\n",
    "#1   1 | 0 [FALSE]\n"
   ]
  },
  {
   "cell_type": "code",
   "execution_count": 52,
   "metadata": {},
   "outputs": [],
   "source": [
    "from tflearn import DNN\n",
    "from tflearn.layers.core import input_data, dropout, fully_connected \n",
    "from tflearn.layers.estimator import regression"
   ]
  },
  {
   "cell_type": "code",
   "execution_count": 38,
   "metadata": {
    "collapsed": true
   },
   "outputs": [],
   "source": [
    "import tensorflow as tf"
   ]
  },
  {
   "cell_type": "code",
   "execution_count": 53,
   "metadata": {
    "collapsed": true
   },
   "outputs": [],
   "source": [
    "inputs = [[0,0], [0,1], [1,0], [1,1]]\n",
    "outputs = [[0], [1], [1], [0]]"
   ]
  },
  {
   "cell_type": "code",
   "execution_count": 54,
   "metadata": {
    "collapsed": true
   },
   "outputs": [],
   "source": [
    "input_layer = input_data(shape=[None, 2])\n",
    "hidden_layer = fully_connected(input_layer , 2, activation='tanh') \n",
    "output_layer = fully_connected(hidden_layer, 1, activation='tanh') "
   ]
  },
  {
   "cell_type": "code",
   "execution_count": null,
   "metadata": {},
   "outputs": [],
   "source": [
    "R = regression(output_layer , optimizer='sgd', loss='binary_crossentropy', learning_rate=5)\n",
    "model = DNN(R)#,tensorboard_verbose=3,tensorboard_dir='network/')"
   ]
  },
  {
   "cell_type": "code",
   "execution_count": null,
   "metadata": {},
   "outputs": [
    {
     "name": "stdout",
     "output_type": "stream",
     "text": [
      "---------------------------------\n",
      "Run id: 4L1U8F\n",
      "Log directory: network/\n",
      "INFO:tensorflow:Summary name BinaryAccuracy/SGD_0 (raw) is illegal; using BinaryAccuracy/SGD_0__raw_ instead.\n",
      "INFO:tensorflow:Summary name BinaryAccuracy_1/SGD_1 (raw) is illegal; using BinaryAccuracy_1/SGD_1__raw_ instead.\n",
      "INFO:tensorflow:Summary name BinaryAccuracy_2/SGD_0 (raw) is illegal; using BinaryAccuracy_2/SGD_0__raw_ instead.\n",
      "INFO:tensorflow:Summary name BinaryAccuracy_3/SGD_1 (raw) is illegal; using BinaryAccuracy_3/SGD_1__raw_ instead.\n"
     ]
    },
    {
     "name": "stderr",
     "output_type": "stream",
     "text": [
      "Exception in thread Thread-15:\n",
      "Traceback (most recent call last):\n",
      "  File \"E:\\ANACONDA\\lib\\threading.py\", line 916, in _bootstrap_inner\n",
      "    self.run()\n",
      "  File \"E:\\ANACONDA\\lib\\threading.py\", line 864, in run\n",
      "    self._target(*self._args, **self._kwargs)\n",
      "  File \"E:\\ANACONDA\\lib\\site-packages\\tflearn\\data_flow.py\", line 187, in fill_feed_dict_queue\n",
      "    data = self.retrieve_data(batch_ids)\n",
      "  File \"E:\\ANACONDA\\lib\\site-packages\\tflearn\\data_flow.py\", line 222, in retrieve_data\n",
      "    utils.slice_array(self.feed_dict[key], batch_ids)\n",
      "  File \"E:\\ANACONDA\\lib\\site-packages\\tflearn\\utils.py\", line 187, in slice_array\n",
      "    return X[start]\n",
      "IndexError: index 1 is out of bounds for axis 0 with size 1\n",
      "\n",
      "Exception in thread Thread-17:\n",
      "Traceback (most recent call last):\n",
      "  File \"E:\\ANACONDA\\lib\\threading.py\", line 916, in _bootstrap_inner\n",
      "    self.run()\n",
      "  File \"E:\\ANACONDA\\lib\\threading.py\", line 864, in run\n",
      "    self._target(*self._args, **self._kwargs)\n",
      "  File \"E:\\ANACONDA\\lib\\site-packages\\tflearn\\data_flow.py\", line 187, in fill_feed_dict_queue\n",
      "    data = self.retrieve_data(batch_ids)\n",
      "  File \"E:\\ANACONDA\\lib\\site-packages\\tflearn\\data_flow.py\", line 222, in retrieve_data\n",
      "    utils.slice_array(self.feed_dict[key], batch_ids)\n",
      "  File \"E:\\ANACONDA\\lib\\site-packages\\tflearn\\utils.py\", line 187, in slice_array\n",
      "    return X[start]\n",
      "IndexError: index 1 is out of bounds for axis 0 with size 1\n",
      "\n",
      "Exception in thread Thread-19:\n",
      "Traceback (most recent call last):\n",
      "  File \"E:\\ANACONDA\\lib\\threading.py\", line 916, in _bootstrap_inner\n",
      "    self.run()\n",
      "  File \"E:\\ANACONDA\\lib\\threading.py\", line 864, in run\n",
      "    self._target(*self._args, **self._kwargs)\n",
      "  File \"E:\\ANACONDA\\lib\\site-packages\\tflearn\\data_flow.py\", line 187, in fill_feed_dict_queue\n",
      "    data = self.retrieve_data(batch_ids)\n",
      "  File \"E:\\ANACONDA\\lib\\site-packages\\tflearn\\data_flow.py\", line 222, in retrieve_data\n",
      "    utils.slice_array(self.feed_dict[key], batch_ids)\n",
      "  File \"E:\\ANACONDA\\lib\\site-packages\\tflearn\\utils.py\", line 187, in slice_array\n",
      "    return X[start]\n",
      "IndexError: index 1 is out of bounds for axis 0 with size 1\n",
      "\n",
      "Exception in thread Thread-21:\n",
      "Traceback (most recent call last):\n",
      "  File \"E:\\ANACONDA\\lib\\threading.py\", line 916, in _bootstrap_inner\n",
      "    self.run()\n",
      "  File \"E:\\ANACONDA\\lib\\threading.py\", line 864, in run\n",
      "    self._target(*self._args, **self._kwargs)\n",
      "  File \"E:\\ANACONDA\\lib\\site-packages\\tflearn\\data_flow.py\", line 187, in fill_feed_dict_queue\n",
      "    data = self.retrieve_data(batch_ids)\n",
      "  File \"E:\\ANACONDA\\lib\\site-packages\\tflearn\\data_flow.py\", line 222, in retrieve_data\n",
      "    utils.slice_array(self.feed_dict[key], batch_ids)\n",
      "  File \"E:\\ANACONDA\\lib\\site-packages\\tflearn\\utils.py\", line 187, in slice_array\n",
      "    return X[start]\n",
      "IndexError: index 1 is out of bounds for axis 0 with size 1\n",
      "\n"
     ]
    },
    {
     "name": "stdout",
     "output_type": "stream",
     "text": [
      "---------------------------------\n",
      "Training samples: 8\n",
      "Validation samples: 0\n",
      "--\n"
     ]
    }
   ],
   "source": [
    "model.fit(inputs, outputs, n_epoch=5000, show_metric=True)"
   ]
  },
  {
   "cell_type": "code",
   "execution_count": 32,
   "metadata": {},
   "outputs": [
    {
     "name": "stdout",
     "output_type": "stream",
     "text": [
      "Input : Predicted Output\n",
      "[0, 0]    [False]\n",
      "[0, 1]    [ True]\n",
      "[1, 0]    [ True]\n",
      "[1, 1]    [False]\n"
     ]
    }
   ],
   "source": [
    "print(\"Input : Predicted Output\")\n",
    "for a,b in zip(inputs,model.predict(inputs)):\n",
    "    print(a,\"  \",b>0)"
   ]
  },
  {
   "cell_type": "code",
   "execution_count": 34,
   "metadata": {},
   "outputs": [
    {
     "ename": "NameError",
     "evalue": "name 'sess' is not defined",
     "output_type": "error",
     "traceback": [
      "\u001b[1;31m---------------------------------------------------------------------------\u001b[0m",
      "\u001b[1;31mNameError\u001b[0m                                 Traceback (most recent call last)",
      "\u001b[1;32m<ipython-input-34-947c09016e36>\u001b[0m in \u001b[0;36m<module>\u001b[1;34m()\u001b[0m\n\u001b[0;32m      1\u001b[0m \u001b[0mwriter\u001b[0m \u001b[1;33m=\u001b[0m \u001b[0mtf\u001b[0m\u001b[1;33m.\u001b[0m\u001b[0msummary\u001b[0m\u001b[1;33m.\u001b[0m\u001b[0mFileWriter\u001b[0m\u001b[1;33m(\u001b[0m\u001b[1;34m'network'\u001b[0m\u001b[1;33m)\u001b[0m\u001b[1;33m\u001b[0m\u001b[0m\n\u001b[1;32m----> 2\u001b[1;33m \u001b[0mwriter\u001b[0m\u001b[1;33m.\u001b[0m\u001b[0madd_graph\u001b[0m\u001b[1;33m(\u001b[0m\u001b[0msess\u001b[0m\u001b[1;33m.\u001b[0m\u001b[0mgraph\u001b[0m\u001b[1;33m)\u001b[0m\u001b[1;33m\u001b[0m\u001b[0m\n\u001b[0m\u001b[0;32m      3\u001b[0m \u001b[1;33m\u001b[0m\u001b[0m\n",
      "\u001b[1;31mNameError\u001b[0m: name 'sess' is not defined"
     ]
    }
   ],
   "source": [
    "writer = tf.summary.FileWriter('network')\n",
    "writer.add_graph(sess.graph)\n",
    "    "
   ]
  }
 ],
 "metadata": {
  "kernelspec": {
   "display_name": "Python 3",
   "language": "python",
   "name": "python3"
  },
  "language_info": {
   "codemirror_mode": {
    "name": "ipython",
    "version": 3
   },
   "file_extension": ".py",
   "mimetype": "text/x-python",
   "name": "python",
   "nbconvert_exporter": "python",
   "pygments_lexer": "ipython3",
   "version": "3.6.3"
  }
 },
 "nbformat": 4,
 "nbformat_minor": 2
}
